{
 "cells": [
  {
   "cell_type": "code",
   "execution_count": 1,
   "id": "baf323f3",
   "metadata": {},
   "outputs": [],
   "source": [
    "# !pip install -e /files/shared/ap/jupyter-notebook/pkgs/objFuncs --break-system-packages\n",
    "# !pip install -e /files/shared/ap/jupyter-notebook/pkgs/pyBO --break-system-packages"
   ]
  },
  {
   "cell_type": "code",
   "execution_count": 2,
   "id": "822c83e7",
   "metadata": {},
   "outputs": [],
   "source": [
    "# !pip install -e /files/shared/ap/jupyter-notebook/pkgs/objFuncs\n",
    "# !pip install -e /files/shared/ap/jupyter-notebook/pkgs/pyBO"
   ]
  },
  {
   "cell_type": "code",
   "execution_count": 3,
   "id": "cd5be174",
   "metadata": {},
   "outputs": [],
   "source": [
    "# !pip install -e ../../objFuncs\n",
    "# !pip install -e ../../pyBO"
   ]
  },
  {
   "cell_type": "code",
   "execution_count": 4,
   "id": "d34dea84",
   "metadata": {},
   "outputs": [
    {
     "name": "stderr",
     "output_type": "stream",
     "text": [
      "/home/devuser/.local/lib/python3.9/site-packages/matplotlib/projections/__init__.py:63: UserWarning: Unable to import Axes3D. This may be due to multiple versions of Matplotlib being installed (e.g. as a system package and as a pip package). As a result, the 3D projection is not available.\n",
      "  warnings.warn(\"Unable to import Axes3D. This may be due to multiple versions of \"\n"
     ]
    }
   ],
   "source": [
    "import numpy as np\n",
    "import matplotlib.pyplot as plt\n",
    "import time\n",
    "import pandas as pd\n",
    "from copy import deepcopy as copy"
   ]
  },
  {
   "cell_type": "code",
   "execution_count": 5,
   "id": "e930ee3e",
   "metadata": {},
   "outputs": [
    {
     "name": "stdout",
     "output_type": "stream",
     "text": [
      "objFuncs version: 1.0.3. updated on 2024-01-25\n"
     ]
    }
   ],
   "source": [
    "import objFuncs\n",
    "from objFuncs import VM\n",
    "from objFuncs import residuals\n",
    "from objFuncs.util import plot_obj_history, plot_multi_obj_history\n",
    "from objFuncs import flame_utils_kilean as flame_utils"
   ]
  },
  {
   "cell_type": "code",
   "execution_count": 6,
   "id": "minimal-rough",
   "metadata": {},
   "outputs": [],
   "source": [
    "objFuncs._global_machineIO._fetch_data_time_span = 5.0\n",
    "objFuncs._global_machineIO._ensure_set_timewait_after_ramp = 1.0\n",
    "objFuncs._global_machineIO._test = True"
   ]
  },
  {
   "cell_type": "code",
   "execution_count": null,
   "id": "breathing-retro",
   "metadata": {},
   "outputs": [],
   "source": [
    "objFuncs._global_machineIO.fetch_data = machineIO_vms[0].fetch_data\n",
    "objFuncs._global_machineIO.ensure_set = machineIO_vms[0].ensure_set\n"
   ]
  },
  {
   "cell_type": "code",
   "execution_count": 7,
   "id": "color-feeling",
   "metadata": {},
   "outputs": [],
   "source": [
    "ensure_set = objFuncs._global_machineIO.ensure_set\n",
    "fetch_data = objFuncs._global_machineIO.fetch_data"
   ]
  },
  {
   "cell_type": "code",
   "execution_count": 8,
   "id": "racial-theory",
   "metadata": {},
   "outputs": [
    {
     "name": "stdout",
     "output_type": "stream",
     "text": [
      "pyBO version: 1.0.0. updated on 2023-12-14\n"
     ]
    }
   ],
   "source": [
    "from pyBO import pyBO\n",
    "\n",
    "# n_init = 16\n",
    "# batch_size = 2\n",
    "# n_local_search = batch_size\n",
    "# n_loop = 8\n",
    "# budget = n_init+n_loop*batch_size\n",
    "# print(budget)"
   ]
  },
  {
   "cell_type": "code",
   "execution_count": 9,
   "id": "otherwise-album",
   "metadata": {},
   "outputs": [],
   "source": [
    "from_Dnum = 2369\n",
    "to_Dnum = 2600"
   ]
  },
  {
   "cell_type": "code",
   "execution_count": 10,
   "id": "hazardous-sustainability",
   "metadata": {},
   "outputs": [],
   "source": [
    "lat_file = \"../objFuncs/FLAME_lat/test_FS1d_20231130_040841_read.lat\"\n",
    "fm = flame_utils.ModelFlame(lat_file)"
   ]
  },
  {
   "cell_type": "code",
   "execution_count": 20,
   "id": "middle-contract",
   "metadata": {},
   "outputs": [],
   "source": [
    "def get_df_by_type(type_name,from_Dnum=from_Dnum, to_Dnum=to_Dnum, fm=fm):\n",
    "    df = fm.get_df_by_type(type_name)\n",
    "    names = [name for name in df['name']\n",
    "             if from_Dnum <= flame_utils.get_Dnum_from_pv(name) <= to_Dnum]\n",
    "    names = flame_utils.sort_by_Dnum(names)\n",
    "    df = df[df['name'].isin(names)].sort_values(\n",
    "            by='name', key=lambda x: x.map(names.index))\n",
    "    PV = [ name.replace(\n",
    "           'DCH','PSC2').replace(\n",
    "           'DCV','PSC1').replace(\n",
    "           'QH'  ,'PSQ' ).replace(\n",
    "           'QV'  ,'PSQ' )\n",
    "           for name in names]\n",
    "    df['PV'] = PV\n",
    "    return df"
   ]
  },
  {
   "cell_type": "code",
   "execution_count": 21,
   "id": "afraid-regression",
   "metadata": {},
   "outputs": [
    {
     "data": {
      "text/html": [
       "<div>\n",
       "<style scoped>\n",
       "    .dataframe tbody tr th:only-of-type {\n",
       "        vertical-align: middle;\n",
       "    }\n",
       "\n",
       "    .dataframe tbody tr th {\n",
       "        vertical-align: top;\n",
       "    }\n",
       "\n",
       "    .dataframe thead th {\n",
       "        text-align: right;\n",
       "    }\n",
       "</style>\n",
       "<table border=\"1\" class=\"dataframe\">\n",
       "  <thead>\n",
       "    <tr style=\"text-align: right;\">\n",
       "      <th></th>\n",
       "      <th>z</th>\n",
       "      <th>L</th>\n",
       "      <th>type</th>\n",
       "      <th>name</th>\n",
       "      <th>PV</th>\n",
       "    </tr>\n",
       "    <tr>\n",
       "      <th>index</th>\n",
       "      <th></th>\n",
       "      <th></th>\n",
       "      <th></th>\n",
       "      <th></th>\n",
       "      <th></th>\n",
       "    </tr>\n",
       "  </thead>\n",
       "  <tbody>\n",
       "    <tr>\n",
       "      <th>73</th>\n",
       "      <td>13.136087</td>\n",
       "      <td>0.0</td>\n",
       "      <td>bpm</td>\n",
       "      <td>FS1_CSS:BPM_D2369</td>\n",
       "      <td>FS1_CSS:BPM_D2369</td>\n",
       "    </tr>\n",
       "    <tr>\n",
       "      <th>82</th>\n",
       "      <td>14.587727</td>\n",
       "      <td>0.0</td>\n",
       "      <td>bpm</td>\n",
       "      <td>FS1_CSS:BPM_D2383</td>\n",
       "      <td>FS1_CSS:BPM_D2383</td>\n",
       "    </tr>\n",
       "    <tr>\n",
       "      <th>103</th>\n",
       "      <td>18.403514</td>\n",
       "      <td>0.0</td>\n",
       "      <td>bpm</td>\n",
       "      <td>FS1_BBS:BPM_D2421</td>\n",
       "      <td>FS1_BBS:BPM_D2421</td>\n",
       "    </tr>\n",
       "    <tr>\n",
       "      <th>123</th>\n",
       "      <td>22.884765</td>\n",
       "      <td>0.0</td>\n",
       "      <td>bpm</td>\n",
       "      <td>FS1_BBS:BPM_D2466</td>\n",
       "      <td>FS1_BBS:BPM_D2466</td>\n",
       "    </tr>\n",
       "    <tr>\n",
       "      <th>142</th>\n",
       "      <td>26.502032</td>\n",
       "      <td>0.0</td>\n",
       "      <td>bpm</td>\n",
       "      <td>FS1_BMS:BPM_D2502</td>\n",
       "      <td>FS1_BMS:BPM_D2502</td>\n",
       "    </tr>\n",
       "    <tr>\n",
       "      <th>167</th>\n",
       "      <td>29.926089</td>\n",
       "      <td>0.0</td>\n",
       "      <td>bpm</td>\n",
       "      <td>FS1_BMS:BPM_D2537</td>\n",
       "      <td>FS1_BMS:BPM_D2537</td>\n",
       "    </tr>\n",
       "    <tr>\n",
       "      <th>197</th>\n",
       "      <td>34.923571</td>\n",
       "      <td>0.0</td>\n",
       "      <td>bpm</td>\n",
       "      <td>FS1_BMS:BPM_D2587</td>\n",
       "      <td>FS1_BMS:BPM_D2587</td>\n",
       "    </tr>\n",
       "    <tr>\n",
       "      <th>203</th>\n",
       "      <td>36.294557</td>\n",
       "      <td>0.0</td>\n",
       "      <td>bpm</td>\n",
       "      <td>FS1_BMS:BPM_D2600</td>\n",
       "      <td>FS1_BMS:BPM_D2600</td>\n",
       "    </tr>\n",
       "  </tbody>\n",
       "</table>\n",
       "</div>"
      ],
      "text/plain": [
       "               z    L type               name                 PV\n",
       "index                                                           \n",
       "73     13.136087  0.0  bpm  FS1_CSS:BPM_D2369  FS1_CSS:BPM_D2369\n",
       "82     14.587727  0.0  bpm  FS1_CSS:BPM_D2383  FS1_CSS:BPM_D2383\n",
       "103    18.403514  0.0  bpm  FS1_BBS:BPM_D2421  FS1_BBS:BPM_D2421\n",
       "123    22.884765  0.0  bpm  FS1_BBS:BPM_D2466  FS1_BBS:BPM_D2466\n",
       "142    26.502032  0.0  bpm  FS1_BMS:BPM_D2502  FS1_BMS:BPM_D2502\n",
       "167    29.926089  0.0  bpm  FS1_BMS:BPM_D2537  FS1_BMS:BPM_D2537\n",
       "197    34.923571  0.0  bpm  FS1_BMS:BPM_D2587  FS1_BMS:BPM_D2587\n",
       "203    36.294557  0.0  bpm  FS1_BMS:BPM_D2600  FS1_BMS:BPM_D2600"
      ]
     },
     "execution_count": 21,
     "metadata": {},
     "output_type": "execute_result"
    }
   ],
   "source": [
    "BPMdf = get_df_by_type('bpm')\n",
    "BPMdf"
   ]
  },
  {
   "cell_type": "code",
   "execution_count": 22,
   "id": "former-softball",
   "metadata": {},
   "outputs": [],
   "source": [
    "QUADdf = get_df_by_type('quadrupole')\n",
    "CORdf  = get_df_by_type('orbtrim')"
   ]
  },
  {
   "cell_type": "code",
   "execution_count": 25,
   "id": "exciting-marriage",
   "metadata": {},
   "outputs": [],
   "source": [
    "decisions = flame_utils.sort_by_Dnum( QUADdf.PV.tolist() + CORdf.PV.tolist() )\n",
    "decision_CSETs = [pv+':I_CSET' for pv in decisions]\n",
    "decision_RDs   = [pv+':I_RD'   for pv in decisions]\n",
    "decision_CSET0,_ = fetch_data(decision_CSETs,0.1)\n",
    "\n",
    "decision_min = [] \n",
    "decision_max = []\n",
    "decision_tol = []\n",
    "for v,k in zip(decision_CSET0,decisions):\n",
    "    if 'PSC' in k:\n",
    "        decision_min.append(max  (0,v -4))\n",
    "        decision_min.append(min( 50,v +4))\n",
    "        decision_tol.append(0.2)\n",
    "    elif 'PSQ' in k:\n",
    "        decision_min.append(max  (0,v-20))\n",
    "        decision_min.append(min(165,v+20))\n",
    "        decision_tol.append(0.4)\n",
    "    else:\n",
    "        raise ValueError('{k} is not COR or QUAD')"
   ]
  },
  {
   "cell_type": "code",
   "execution_count": null,
   "id": "offshore-tactics",
   "metadata": {},
   "outputs": [],
   "source": [
    "beamcurrent_min = caget(beamcurrentPV)*0.95"
   ]
  },
  {
   "cell_type": "code",
   "execution_count": 27,
   "id": "religious-authentication",
   "metadata": {},
   "outputs": [],
   "source": [
    "monitor_PVs = []\n",
    "for name in BPMdf.name:\n",
    "    monitor_PVs += [name + ':XPOS_RD']\n",
    "    monitor_PVs += [name + ':YPOS_RD']\n",
    "    monitor_PVs += [name + ':MAG_RD']\n",
    "    monitor_PVs += [name + ':CURRENT_RD']\n",
    "    monitor_PVs += [name + ':PHASE_RD']\n",
    "# monitor_PVs += [beamcurrentPV]\n",
    "# monitor_PVs"
   ]
  },
  {
   "cell_type": "code",
   "execution_count": 28,
   "id": "joined-reach",
   "metadata": {},
   "outputs": [],
   "source": [
    "def single_knob_scan(setPV,rdPV,tol,\n",
    "                     x0,xmin,xmax,nscan,\n",
    "                     beamcurrentPV=beamcurrentPV, \n",
    "                     beamcurrent_min=beamcurrent_min):\n",
    "    assert beamcurrentPV in monitor_PVs\n",
    "    xscan = np.linsapce(xmin,xmax,nscan)\n",
    "    xscan1 = xscan[ xscan <  x0 ][::-1]\n",
    "    xscan2 = xscan[ xscan >= x0 ]\n",
    "    \n",
    "    collect_mean = []\n",
    "    collect_std  = []\n",
    "    \n",
    "    for x in xscan1:\n",
    "        ensure_set([setPV],[rdPV],x,tol=tol)\n",
    "        _,raw = fetch_data(decision_RDs + monitor_PVs,with_data=True)\n",
    "        std = raw['std']\n",
    "        if raw['mean'].loc['beamcurrentPV'] < beamcurrent_min:\n",
    "            break\n",
    "        collect_mean.append(raw['mean'])\n",
    "        collect_std .append(raw['std' ])\n",
    "    \n",
    "    for x in xscan2:\n",
    "        ensure_set([setPV],[rdPV],x,tol=tol)\n",
    "        _,raw = fetch_data(decision_RDs + monitor_PVs,with_data=True)\n",
    "        std = raw['std']\n",
    "        if raw['mean'].loc['beamcurrentPV'] < beamcurrent_min:\n",
    "            break\n",
    "        collect_mean.append(raw['mean'])\n",
    "        collect_std .append(raw['std' ])\n",
    "        \n",
    "    collect_mean = pd.DataFrame(collect_mean, columns= decision_RDs + monitor_PVs )\n",
    "    collect_std  = pd.DataFrame(collect_std , columns= decision_RDs + monitor_PVs )\n",
    "    \n",
    "    ensure_set([setPV],[rdPV],x0,tol=tol)\n",
    "    \n",
    "    return collect_mean.to_dict(), collect_std.to_dict()"
   ]
  },
  {
   "cell_type": "code",
   "execution_count": null,
   "id": "visible-burst",
   "metadata": {},
   "outputs": [],
   "source": [
    "collect_data = {}\n",
    "\n",
    "for pv in (decisions[::-1], \n",
    "           decision_CSET0[::-1],\n",
    "           decision_min[::-1],\n",
    "           decision_max[::-1],\n",
    "           decision_tol[::-1]\n",
    "          ):\n",
    "    collect_data['pv'] = {}\n",
    "    collect_mean, collect_std = single_knob_scan(pv+\":I_CSET\",pv+\":I_RD\",tol,\n",
    "                                                 x0,xmin,xmax,7,\n",
    "                                                 )\n",
    "    collect_data['pv']['mean'] = collect_mean\n",
    "    collect_data['pv']['std' ] = collect_std\n",
    "    \n",
    "    pickle.dump(collect_data,open('FS1_calibration_data.pkl','wr'))"
   ]
  }
 ],
 "metadata": {
  "kernelspec": {
   "display_name": "Python 3 (ipykernel)",
   "language": "python",
   "name": "python3"
  },
  "language_info": {
   "codemirror_mode": {
    "name": "ipython",
    "version": 3
   },
   "file_extension": ".py",
   "mimetype": "text/x-python",
   "name": "python",
   "nbconvert_exporter": "python",
   "pygments_lexer": "ipython3",
   "version": "3.9.7"
  }
 },
 "nbformat": 4,
 "nbformat_minor": 5
}
